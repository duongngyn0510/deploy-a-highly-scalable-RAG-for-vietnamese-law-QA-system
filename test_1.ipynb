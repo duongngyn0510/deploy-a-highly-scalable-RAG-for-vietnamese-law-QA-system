{
 "cells": [
  {
   "cell_type": "code",
   "execution_count": null,
   "metadata": {},
   "outputs": [],
   "source": [
    "from src.components.llm.custom.vllm.base_v2 import VllmServer\n",
    "llm = VllmServer(api_url='http://103.145.79.20:6017/v1/completions', max_tokens=50)"
   ]
  },
  {
   "cell_type": "code",
   "execution_count": 1,
   "metadata": {},
   "outputs": [],
   "source": [
    "from llama_index.llms.vllm import VllmServer\n",
    "llm = VllmServer(api_url='http://103.145.79.20:6017/generate', max_new_tokens=50)"
   ]
  },
  {
   "cell_type": "code",
   "execution_count": 2,
   "metadata": {},
   "outputs": [
    {
     "name": "stdout",
     "output_type": "stream",
     "text": [
      "Beam candidate 0: 'việt nam là quốc gia ở đâu ?\\n'\n",
      "\u001b[1A\u001b[2KBeam candidate 0: 'việt nam là quốc gia ở đâu ?\\n2'\n",
      "\u001b[1A\u001b[2KBeam candidate 0: 'việt nam là quốc gia ở đâu ?\\n2.'\n",
      "\u001b[1A\u001b[2KBeam candidate 0: 'việt nam là quốc gia ở đâu ?\\n2. việt'\n",
      "\u001b[1A\u001b[2KBeam candidate 0: 'việt nam là quốc gia ở đâu ?\\n2. việt nam'\n",
      "\u001b[1A\u001b[2KBeam candidate 0: 'việt nam là quốc gia ở đâu ?\\n2. việt nam là'\n",
      "\u001b[1A\u001b[2KBeam candidate 0: 'việt nam là quốc gia ở đâu ?\\n2. việt nam là thành'\n",
      "\u001b[1A\u001b[2KBeam candidate 0: 'việt nam là quốc gia ở đâu ?\\n2. việt nam là thành viên'\n",
      "\u001b[1A\u001b[2KBeam candidate 0: 'việt nam là quốc gia ở đâu ?\\n2. việt nam là thành viên của'\n",
      "\u001b[1A\u001b[2KBeam candidate 0: 'việt nam là quốc gia ở đâu ?\\n2. việt nam là thành viên của những'\n",
      "\u001b[1A\u001b[2KBeam candidate 0: 'việt nam là quốc gia ở đâu ?\\n2. việt nam là thành viên của những tổ'\n",
      "\u001b[1A\u001b[2KBeam candidate 0: 'việt nam là quốc gia ở đâu ?\\n2. việt nam là thành viên của những tổ chức'\n",
      "\u001b[1A\u001b[2KBeam candidate 0: 'việt nam là quốc gia ở đâu ?\\n2. việt nam là thành viên của những tổ chức quốc'\n",
      "\u001b[1A\u001b[2KBeam candidate 0: 'việt nam là quốc gia ở đâu ?\\n2. việt nam là thành viên của những tổ chức quốc tế'\n",
      "\u001b[1A\u001b[2KBeam candidate 0: 'việt nam là quốc gia ở đâu ?\\n2. việt nam là thành viên của những tổ chức quốc tế nào'\n",
      "\u001b[1A\u001b[2KBeam candidate 0: 'việt nam là quốc gia ở đâu ?\\n2. việt nam là thành viên của những tổ chức quốc tế nào ?'\n",
      "\u001b[1A\u001b[2KBeam candidate 0: 'việt nam là quốc gia ở đâu ?\\n2. việt nam là thành viên của những tổ chức quốc tế nào ?\\n'\n",
      "\u001b[1A\u001b[2KBeam candidate 0: 'việt nam là quốc gia ở đâu ?\\n2. việt nam là thành viên của những tổ chức quốc tế nào ?\\nĐể'\n",
      "\u001b[1A\u001b[2KBeam candidate 0: 'việt nam là quốc gia ở đâu ?\\n2. việt nam là thành viên của những tổ chức quốc tế nào ?\\nĐể chọn'\n",
      "\u001b[1A\u001b[2KBeam candidate 0: 'việt nam là quốc gia ở đâu ?\\n2. việt nam là thành viên của những tổ chức quốc tế nào ?\\nĐể chọn câu'\n",
      "\u001b[1A\u001b[2KBeam candidate 0: 'việt nam là quốc gia ở đâu ?\\n2. việt nam là thành viên của những tổ chức quốc tế nào ?\\nĐể chọn câu trả'\n",
      "\u001b[1A\u001b[2KBeam candidate 0: 'việt nam là quốc gia ở đâu ?\\n2. việt nam là thành viên của những tổ chức quốc tế nào ?\\nĐể chọn câu trả lời'\n",
      "\u001b[1A\u001b[2KBeam candidate 0: 'việt nam là quốc gia ở đâu ?\\n2. việt nam là thành viên của những tổ chức quốc tế nào ?\\nĐể chọn câu trả lời đúng'\n",
      "\u001b[1A\u001b[2KBeam candidate 0: 'việt nam là quốc gia ở đâu ?\\n2. việt nam là thành viên của những tổ chức quốc tế nào ?\\nĐể chọn câu trả lời đúng,'\n",
      "\u001b[1A\u001b[2KBeam candidate 0: 'việt nam là quốc gia ở đâu ?\\n2. việt nam là thành viên của những tổ chức quốc tế nào ?\\nĐể chọn câu trả lời đúng, bạn'\n",
      "\u001b[1A\u001b[2KBeam candidate 0: 'việt nam là quốc gia ở đâu ?\\n2. việt nam là thành viên của những tổ chức quốc tế nào ?\\nĐể chọn câu trả lời đúng, bạn có'\n",
      "\u001b[1A\u001b[2KBeam candidate 0: 'việt nam là quốc gia ở đâu ?\\n2. việt nam là thành viên của những tổ chức quốc tế nào ?\\nĐể chọn câu trả lời đúng, bạn có thể'\n",
      "\u001b[1A\u001b[2KBeam candidate 0: 'việt nam là quốc gia ở đâu ?\\n2. việt nam là thành viên của những tổ chức quốc tế nào ?\\nĐể chọn câu trả lời đúng, bạn có thể sử'\n",
      "\u001b[1A\u001b[2KBeam candidate 0: 'việt nam là quốc gia ở đâu ?\\n2. việt nam là thành viên của những tổ chức quốc tế nào ?\\nĐể chọn câu trả lời đúng, bạn có thể sử dụng'\n",
      "\u001b[1A\u001b[2KBeam candidate 0: 'việt nam là quốc gia ở đâu ?\\n2. việt nam là thành viên của những tổ chức quốc tế nào ?\\nĐể chọn câu trả lời đúng, bạn có thể sử dụng các'\n",
      "\u001b[1A\u001b[2KBeam candidate 0: 'việt nam là quốc gia ở đâu ?\\n2. việt nam là thành viên của những tổ chức quốc tế nào ?\\nĐể chọn câu trả lời đúng, bạn có thể sử dụng các bước'\n",
      "\u001b[1A\u001b[2KBeam candidate 0: 'việt nam là quốc gia ở đâu ?\\n2. việt nam là thành viên của những tổ chức quốc tế nào ?\\nĐể chọn câu trả lời đúng, bạn có thể sử dụng các bước sau'\n",
      "\u001b[1A\u001b[2KBeam candidate 0: 'việt nam là quốc gia ở đâu ?\\n2. việt nam là thành viên của những tổ chức quốc tế nào ?\\nĐể chọn câu trả lời đúng, bạn có thể sử dụng các bước sau đây'\n",
      "\u001b[1A\u001b[2KBeam candidate 0: 'việt nam là quốc gia ở đâu ?\\n2. việt nam là thành viên của những tổ chức quốc tế nào ?\\nĐể chọn câu trả lời đúng, bạn có thể sử dụng các bước sau đây:'\n",
      "\u001b[1A\u001b[2KBeam candidate 0: 'việt nam là quốc gia ở đâu ?\\n2. việt nam là thành viên của những tổ chức quốc tế nào ?\\nĐể chọn câu trả lời đúng, bạn có thể sử dụng các bước sau đây:\\n'\n",
      "\u001b[1A\u001b[2KBeam candidate 0: 'việt nam là quốc gia ở đâu ?\\n2. việt nam là thành viên của những tổ chức quốc tế nào ?\\nĐể chọn câu trả lời đúng, bạn có thể sử dụng các bước sau đây:\\n\\n'\n",
      "\u001b[1A\u001b[2KBeam candidate 0: 'việt nam là quốc gia ở đâu ?\\n2. việt nam là thành viên của những tổ chức quốc tế nào ?\\nĐể chọn câu trả lời đúng, bạn có thể sử dụng các bước sau đây:\\n\\n1'\n",
      "\u001b[1A\u001b[2KBeam candidate 0: 'việt nam là quốc gia ở đâu ?\\n2. việt nam là thành viên của những tổ chức quốc tế nào ?\\nĐể chọn câu trả lời đúng, bạn có thể sử dụng các bước sau đây:\\n\\n1.'\n",
      "\u001b[1A\u001b[2KBeam candidate 0: 'việt nam là quốc gia ở đâu ?\\n2. việt nam là thành viên của những tổ chức quốc tế nào ?\\nĐể chọn câu trả lời đúng, bạn có thể sử dụng các bước sau đây:\\n\\n1. Đọc'\n",
      "\u001b[1A\u001b[2KBeam candidate 0: 'việt nam là quốc gia ở đâu ?\\n2. việt nam là thành viên của những tổ chức quốc tế nào ?\\nĐể chọn câu trả lời đúng, bạn có thể sử dụng các bước sau đây:\\n\\n1. Đọc câu'\n",
      "\u001b[1A\u001b[2KBeam candidate 0: 'việt nam là quốc gia ở đâu ?\\n2. việt nam là thành viên của những tổ chức quốc tế nào ?\\nĐể chọn câu trả lời đúng, bạn có thể sử dụng các bước sau đây:\\n\\n1. Đọc câu văn'\n",
      "\u001b[1A\u001b[2KBeam candidate 0: 'việt nam là quốc gia ở đâu ?\\n2. việt nam là thành viên của những tổ chức quốc tế nào ?\\nĐể chọn câu trả lời đúng, bạn có thể sử dụng các bước sau đây:\\n\\n1. Đọc câu văn:'\n",
      "\u001b[1A\u001b[2KBeam candidate 0: 'việt nam là quốc gia ở đâu ?\\n2. việt nam là thành viên của những tổ chức quốc tế nào ?\\nĐể chọn câu trả lời đúng, bạn có thể sử dụng các bước sau đây:\\n\\n1. Đọc câu văn: \"'\n",
      "\u001b[1A\u001b[2KBeam candidate 0: 'việt nam là quốc gia ở đâu ?\\n2. việt nam là thành viên của những tổ chức quốc tế nào ?\\nĐể chọn câu trả lời đúng, bạn có thể sử dụng các bước sau đây:\\n\\n1. Đọc câu văn: \"M'\n",
      "\u001b[1A\u001b[2KBeam candidate 0: 'việt nam là quốc gia ở đâu ?\\n2. việt nam là thành viên của những tổ chức quốc tế nào ?\\nĐể chọn câu trả lời đúng, bạn có thể sử dụng các bước sau đây:\\n\\n1. Đọc câu văn: \"Miền'\n",
      "\u001b[1A\u001b[2KBeam candidate 0: 'việt nam là quốc gia ở đâu ?\\n2. việt nam là thành viên của những tổ chức quốc tế nào ?\\nĐể chọn câu trả lời đúng, bạn có thể sử dụng các bước sau đây:\\n\\n1. Đọc câu văn: \"Miền Nam'\n",
      "\u001b[1A\u001b[2KBeam candidate 0: 'việt nam là quốc gia ở đâu ?\\n2. việt nam là thành viên của những tổ chức quốc tế nào ?\\nĐể chọn câu trả lời đúng, bạn có thể sử dụng các bước sau đây:\\n\\n1. Đọc câu văn: \"Miền Nam Việt'\n",
      "\u001b[1A\u001b[2KBeam candidate 0: 'việt nam là quốc gia ở đâu ?\\n2. việt nam là thành viên của những tổ chức quốc tế nào ?\\nĐể chọn câu trả lời đúng, bạn có thể sử dụng các bước sau đây:\\n\\n1. Đọc câu văn: \"Miền Nam Việt Nam'\n",
      "\u001b[1A\u001b[2KBeam candidate 0: 'việt nam là quốc gia ở đâu ?\\n2. việt nam là thành viên của những tổ chức quốc tế nào ?\\nĐể chọn câu trả lời đúng, bạn có thể sử dụng các bước sau đây:\\n\\n1. Đọc câu văn: \"Miền Nam Việt Nam chiếm'\n",
      "\u001b[1A\u001b[2KBeam candidate 0: 'việt nam là quốc gia ở đâu ?\\n2. việt nam là thành viên của những tổ chức quốc tế nào ?\\nĐể chọn câu trả lời đúng, bạn có thể sử dụng các bước sau đây:\\n\\n1. Đọc câu văn: \"Miền Nam Việt Nam chiếm phần'\n"
     ]
    },
    {
     "ename": "ValidationError",
     "evalue": "1 validation error for LLMCompletionEndEvent\nresponse\n  none is not an allowed value (type=type_error.none.not_allowed)",
     "output_type": "error",
     "traceback": [
      "\u001b[0;31m---------------------------------------------------------------------------\u001b[0m",
      "\u001b[0;31mValidationError\u001b[0m                           Traceback (most recent call last)",
      "Cell \u001b[0;32mIn[2], line 1\u001b[0m\n\u001b[0;32m----> 1\u001b[0m x \u001b[38;5;241m=\u001b[39m llm\u001b[38;5;241m.\u001b[39mstream_complete(\u001b[38;5;124m\"\u001b[39m\u001b[38;5;124mviệt nam là quốc gia ở đâu ?\u001b[39m\u001b[38;5;124m\"\u001b[39m)\n",
      "File \u001b[0;32m~/anaconda3/lib/python3.11/site-packages/llama_index/core/instrumentation/dispatcher.py:230\u001b[0m, in \u001b[0;36mDispatcher.span.<locals>.wrapper\u001b[0;34m(func, instance, args, kwargs)\u001b[0m\n\u001b[1;32m    226\u001b[0m \u001b[38;5;28mself\u001b[39m\u001b[38;5;241m.\u001b[39mspan_enter(\n\u001b[1;32m    227\u001b[0m     id_\u001b[38;5;241m=\u001b[39mid_, bound_args\u001b[38;5;241m=\u001b[39mbound_args, instance\u001b[38;5;241m=\u001b[39minstance, parent_id\u001b[38;5;241m=\u001b[39mparent_id\n\u001b[1;32m    228\u001b[0m )\n\u001b[1;32m    229\u001b[0m \u001b[38;5;28;01mtry\u001b[39;00m:\n\u001b[0;32m--> 230\u001b[0m     result \u001b[38;5;241m=\u001b[39m func(\u001b[38;5;241m*\u001b[39margs, \u001b[38;5;241m*\u001b[39m\u001b[38;5;241m*\u001b[39mkwargs)\n\u001b[1;32m    231\u001b[0m \u001b[38;5;28;01mexcept\u001b[39;00m \u001b[38;5;167;01mBaseException\u001b[39;00m \u001b[38;5;28;01mas\u001b[39;00m e:\n\u001b[1;32m    232\u001b[0m     \u001b[38;5;28mself\u001b[39m\u001b[38;5;241m.\u001b[39mevent(SpanDropEvent(span_id\u001b[38;5;241m=\u001b[39mid_, err_str\u001b[38;5;241m=\u001b[39m\u001b[38;5;28mstr\u001b[39m(e)))\n",
      "File \u001b[0;32m~/anaconda3/lib/python3.11/site-packages/llama_index/core/llms/callbacks.py:492\u001b[0m, in \u001b[0;36mllm_completion_callback.<locals>.wrap.<locals>.wrapped_llm_predict\u001b[0;34m(_self, *args, **kwargs)\u001b[0m\n\u001b[1;32m    482\u001b[0m     \u001b[38;5;28;01melse\u001b[39;00m:\n\u001b[1;32m    483\u001b[0m         callback_manager\u001b[38;5;241m.\u001b[39mon_event_end(\n\u001b[1;32m    484\u001b[0m             CBEventType\u001b[38;5;241m.\u001b[39mLLM,\n\u001b[1;32m    485\u001b[0m             payload\u001b[38;5;241m=\u001b[39m{\n\u001b[0;32m   (...)\u001b[0m\n\u001b[1;32m    489\u001b[0m             event_id\u001b[38;5;241m=\u001b[39mevent_id,\n\u001b[1;32m    490\u001b[0m         )\n\u001b[1;32m    491\u001b[0m         dispatcher\u001b[38;5;241m.\u001b[39mevent(\n\u001b[0;32m--> 492\u001b[0m             LLMCompletionEndEvent(\n\u001b[1;32m    493\u001b[0m                 prompt\u001b[38;5;241m=\u001b[39mprompt,\n\u001b[1;32m    494\u001b[0m                 response\u001b[38;5;241m=\u001b[39mf_return_val,\n\u001b[1;32m    495\u001b[0m                 span_id\u001b[38;5;241m=\u001b[39mspan_id,\n\u001b[1;32m    496\u001b[0m             )\n\u001b[1;32m    497\u001b[0m         )\n\u001b[1;32m    499\u001b[0m \u001b[38;5;28;01mreturn\u001b[39;00m f_return_val\n",
      "File \u001b[0;32m~/anaconda3/lib/python3.11/site-packages/pydantic/main.py:341\u001b[0m, in \u001b[0;36mpydantic.main.BaseModel.__init__\u001b[0;34m()\u001b[0m\n",
      "\u001b[0;31mValidationError\u001b[0m: 1 validation error for LLMCompletionEndEvent\nresponse\n  none is not an allowed value (type=type_error.none.not_allowed)"
     ]
    }
   ],
   "source": [
    "x = llm.stream_complete(\"việt nam là quốc gia ở đâu ?\")"
   ]
  },
  {
   "cell_type": "code",
   "execution_count": 8,
   "metadata": {},
   "outputs": [],
   "source": [
    "for i in x:\n",
    "    print(i)"
   ]
  },
  {
   "cell_type": "code",
   "execution_count": 11,
   "metadata": {},
   "outputs": [],
   "source": [
    "\"\"\"Example Python client for vllm.entrypoints.api_server\"\"\"\n",
    "\n",
    "import argparse\n",
    "import json\n",
    "from typing import Iterable, List\n",
    "\n",
    "import requests\n",
    "\n",
    "\n",
    "def clear_line(n: int = 1) -> None:\n",
    "    LINE_UP = '\\033[1A'\n",
    "    LINE_CLEAR = '\\x1b[2K'\n",
    "    for _ in range(n):\n",
    "        print(LINE_UP, end=LINE_CLEAR, flush=True)\n",
    "\n",
    "\n",
    "def post_http_request(prompt: str,\n",
    "                      api_url: str,\n",
    "                      n: int = 1,\n",
    "                      stream: bool = False) -> requests.Response:\n",
    "    headers = {\"User-Agent\": \"Test Client\"}\n",
    "    pload = {\n",
    "        \"prompt\": prompt,\n",
    "        \"n\": n,\n",
    "        \"use_beam_search\": True,\n",
    "        \"temperature\": 0.0,\n",
    "        \"max_tokens\": 16,\n",
    "        \"stream\": stream,\n",
    "    }\n",
    "    response = requests.post(api_url, headers=headers, json=pload, stream=True)\n",
    "    return response\n",
    "\n",
    "\n",
    "def get_streaming_response(response: requests.Response) -> Iterable[List[str]]:\n",
    "    for chunk in response.iter_lines(chunk_size=8192,\n",
    "                                     decode_unicode=False,\n",
    "                                     delimiter=b\"\\0\"):\n",
    "        if chunk:\n",
    "            data = json.loads(chunk.decode(\"utf-8\"))\n",
    "            output = data[\"text\"]\n",
    "            yield output\n",
    "\n",
    "\n",
    "def get_response(response: requests.Response) -> List[str]:\n",
    "    data = json.loads(response.content)\n",
    "    output = data[\"text\"]\n",
    "    return output\n",
    "\n",
    "\n",
    "if __name__ == \"__main__\":\n",
    "    parser = argparse.ArgumentParser()\n",
    "    parser.add_argument(\"--host\", type=str, default=\"localhost\")\n",
    "    parser.add_argument(\"--port\", type=int, default=8000)\n",
    "    parser.add_argument(\"--n\", type=int, default=4)\n",
    "    parser.add_argument(\"--prompt\", type=str, default=\"San Francisco is a\")\n",
    "    parser.add_argument(\"--stream\", action=\"store_true\")\n",
    "    args = parser.parse_args()\n",
    "    prompt = args.prompt\n",
    "    api_url = f\"http://{args.host}:{args.port}/generate\"\n",
    "    n = args.n\n",
    "    stream = args.stream\n",
    "\n",
    "    print(f\"Prompt: {prompt!r}\\n\", flush=True)\n",
    "    response = post_http_request(prompt, api_url, n, stream)\n",
    "\n",
    "    if stream:\n",
    "        num_printed_lines = 0\n",
    "        for h in get_streaming_response(response):\n",
    "            clear_line(num_printed_lines)\n",
    "            num_printed_lines = 0\n",
    "            for i, line in enumerate(h):\n",
    "                num_printed_lines += 1\n",
    "                print(f\"Beam candidate {i}: {line!r}\", flush=True)\n",
    "    else:\n",
    "        output = get_response(response)\n",
    "        for i, line in enumerate(output):\n",
    "            print(f\"Beam candidate {i}: {line!r}\", flush=True)"
   ]
  },
  {
   "cell_type": "code",
   "execution_count": 3,
   "metadata": {},
   "outputs": [],
   "source": [
    "import weaviate\n",
    "from src.components.vector_store.custom.weaviate.base import CustomWeaviateVectorStore\n",
    "from src.components.embedding.custom.text_embeddings_inference.base import TextEmbeddingsInference\n",
    "from llama_index.embeddings.huggingface import HuggingFaceEmbedding\n",
    "from llama_index.core import VectorStoreIndex\n",
    "\n",
    "client = weaviate.Client(\"http://localhost:9091\")\n",
    "import json\n",
    "\n",
    "# auth_client_secret=weaviate.auth.AuthApiKey('jane-secret-key')\n",
    "# embed_model = TextEmbeddingsInference(\n",
    "#     base_url=\"http://localhost:8081\",\n",
    "#     timeout=60\n",
    "# )\n",
    "\n",
    "# DEVICE = \"cuda:0\"\n",
    "# MODEL_NAME = \"qducnguyen/vietnamese-bi-encoder\"\n",
    "# embed_model = HuggingFaceEmbedding(model_name=MODEL_NAME, \n",
    "#                                    max_length=256, device=DEVICE)"
   ]
  },
  {
   "cell_type": "code",
   "execution_count": 5,
   "metadata": {},
   "outputs": [],
   "source": [
    "# Define the schema\n",
    "class_schema = {\n",
    "    \"class\": \"Embedding\",\n",
    "    \"properties\": [\n",
    "        {\n",
    "            \"name\": \"vector\",\n",
    "            \"dataType\": [\"number[]\"],\n",
    "        }\n",
    "    ]\n",
    "}\n",
    "\n",
    "# Create the schema if it doesn't exist\n",
    "client.schema.create_class(class_schema)"
   ]
  },
  {
   "cell_type": "code",
   "execution_count": 5,
   "metadata": {},
   "outputs": [],
   "source": [
    "from src.components.embedding.custom.text_embeddings_inference.base import (\n",
    "    TextEmbeddingsInference,\n",
    ")\n",
    "\n",
    "embedding_model = TextEmbeddingsInference(\n",
    "    base_url=\"http://34.29.222.41\", timeout=60\n",
    ")"
   ]
  },
  {
   "cell_type": "code",
   "execution_count": 6,
   "metadata": {},
   "outputs": [],
   "source": [
    "from src.components.vector_store.custom.weaviate.base import CustomWeaviateVectorStore\n",
    "\n",
    "DATA_COLLECTION = \"Law07032024\"\n",
    "\n",
    "vector_store = CustomWeaviateVectorStore(weaviate_client=client, index_name=DATA_COLLECTION)\n",
    "index = VectorStoreIndex.from_vector_store(\n",
    "    vector_store,\n",
    "    embed_model=embedding_model,\n",
    ")"
   ]
  },
  {
   "cell_type": "code",
   "execution_count": 11,
   "metadata": {},
   "outputs": [
    {
     "name": "stderr",
     "output_type": "stream",
     "text": [
      "21:31:24.729 [INFO    ]                     httpx - HTTP Request: POST http://34.29.222.41/embed \"HTTP/1.1 200 OK\"\n"
     ]
    },
    {
     "name": "stdout",
     "output_type": "stream",
     "text": [
      "len(vector_nodes) 20\n",
      "vector_nodes time 3.207819700241089\n",
      "len(bm25_nodes) 20\n",
      "bm25_nodes time 0.901313066482544\n",
      "max_dense_score 0.5823841000000001\n",
      "len(x) 5\n"
     ]
    }
   ],
   "source": [
    "from src.components.vector_store.custom.retriever import HybridRetrieverV2\n",
    "vector_index_retriever = HybridRetrieverV2(\n",
    "                index=index,\n",
    "                similarity_top_k=20,\n",
    "                retrieval_top_k=5,\n",
    "                alpha=0.8\n",
    "            )\n",
    "\n",
    "text = \"đi xe máy không đội mũ bảo hiểm bị phạt bao nhiêu tiền ?\"\n",
    "# text = ViTokenizer.tokenize(text.lower())\n",
    "\n",
    "\n",
    "from src.components.rerank.custom.model_api.base import ModelAPIRerank \n",
    "from llama_index.core.indices.postprocessor import MetadataReplacementPostProcessor\n",
    "from llama_index.core.postprocessor import SimilarityPostprocessor\n",
    "from llama_index.core.schema import MetadataMode, NodeWithScore, QueryBundle\n",
    "\n",
    "node_postprocessors = [\n",
    "    MetadataReplacementPostProcessor(target_metadata_key=\"window\"),\n",
    "    # SimilarityPostprocessor(\n",
    "    #     similarity_cutoff=0.5\n",
    "    # ),\n",
    "] \n",
    "\n",
    "nodes = vector_index_retriever.retrieve(text)\n",
    "# for postprocessor in node_postprocessors:\n",
    "#     nodes = postprocessor.postprocess_nodes(\n",
    "#         nodes, query_bundle=QueryBundle(text)\n",
    "#     )"
   ]
  },
  {
   "cell_type": "code",
   "execution_count": 12,
   "metadata": {},
   "outputs": [
    {
     "data": {
      "text/plain": [
       "{'filename': 'Nghị_định_123_2021_NĐ-CP_sửa_đổi_các_Nghị_định_quy.json',\n",
       " 'source': '123/2021/NĐ-CP, Điều 2',\n",
       " 'len_tokenizer': 16663,\n",
       " 'parent_text': 'đường bộ; b) Không nhường đường hoặc gây cản trở xe được quyền ưu tiên đang phát tín hiệu ưu tiên đi làm nhiệm vụ.”; b) Điều khiển xe (kể cả rơ moóc và sơ mi rơ moóc) không gắn biển số (đối với loại xe có quy định phải gắn biển số); b) Người điều khiển xe ô tô, máy kéo và các loại xe tương tự xe ô tô không có hoặc không mang theo Giấy chứng nhận bảo hiểm trách nhiệm dân sự của chủ xe cơ giới còn hiệu lực. b) Thực hiện hành vi quy định tại khoản 2, khoản 3 Điều này bị tước quyền sử dụng Giấy phép lái xe từ 02 tháng đến 04 tháng; b) Điều khiển xe có Giấy phép lưu hành còn giá trị sử dụng nhưng tổng trọng lượng (khối lượng toàn bộ) của xe hoặc tải trọng trục xe (bao gồm cả hàng hóa xếp trên xe nếu có) vượt quá quy định trong Giấy phép lưu hành; b) Lưu hành phương tiện trên lãnh thổ Việt Nam quá thời hạn quy định dưới 30 ngày. b) Phạt tiền đến 15.000.000 đồng đối với hành vi vi phạm trong lĩnh vực giao thông đường bộ, đường sắt; b) Phạt tiền đến 75.000.000 đồng đối với hành vi vi phạm trong lĩnh vực giao thông đường bộ, đường sắt;\\n\\to) Chở người ngồi trên xe không đội “mũ bảo hiểm cho người đi mô tô, xe máy” hoặc đội “mũ bảo hiểm cho người đi mô tô, xe máy” không cài quai đúng quy cách, trừ trường hợp chở người bệnh đi cấp cứu, trẻ em dưới 06 tuổi, áp giải người có hành vi vi phạm pháp luật.”;\\n\\tc) Sửa đổi khoản 5 Điều 6 như sau: “5. Phạt tiền từ 1.000.000 đồng đến 2.000.000 đồng đối với người điều khiển xe thực hiện một trong các hành vi vi phạm sau đây: c) Điều khiển xe ô tô tải (kể cả rơ moóc và sơ mi rơ moóc) có kích thước thùng xe không đúng với thông số kỹ thuật được ghi trong Giấy chứng nhận kiểm định an toàn kỹ thuật và bảo vệ môi trường của xe; c) Thực hiện hành vi quy định tại điểm a khoản 3 Điều này bị tịch thu Giấy phép lưu hành đã hết giá trị sử dụng hoặc không do cơ quan có thẩm quyền cấp.',\n",
       " 'dense_score': 0.5823841000000001,\n",
       " 'bm25_score': 19.031626}"
      ]
     },
     "execution_count": 12,
     "metadata": {},
     "output_type": "execute_result"
    }
   ],
   "source": [
    "nodes[0].metadata"
   ]
  },
  {
   "cell_type": "code",
   "execution_count": 9,
   "metadata": {},
   "outputs": [
    {
     "name": "stderr",
     "output_type": "stream",
     "text": [
      "17:29:58.812 [INFO    ]                     httpx - HTTP Request: POST http://34.29.222.41/embed \"HTTP/1.1 200 OK\"\n"
     ]
    },
    {
     "name": "stdout",
     "output_type": "stream",
     "text": [
      "vector_nodes time 1.8821566104888916\n",
      "bm25_nodes time 1.1262292861938477\n",
      "len(all_nodes) 32\n",
      "18.79261 0.5823841000000001\n",
      "17.551252 0.48049090000000005\n",
      "20.899967 0.47861433\n",
      "0.0 0.47400147000000004\n",
      "18.638426 0.43821239999999995\n",
      "0.0 0.43365549999999997\n",
      "11.54544 0.42710983999999996\n",
      "21.35604 0.42572600000000005\n",
      "0.0 0.42505800000000005\n",
      "0.0 0.42132879999999995\n",
      "0.0 0.42132879999999995\n",
      "0.0 0.41240895\n",
      "0.0 0.41240895\n",
      "0.0 0.40754193000000005\n",
      "0.0 0.40754193000000005\n",
      "18.70376 0.403609\n",
      "0.0 0.40295590000000003\n",
      "0.0 0.40259135\n",
      "0.0 0.39863059999999995\n",
      "17.940262 0.39816326\n",
      "20.33075 0.0\n",
      "17.632566 0.0\n",
      "12.119919 0.0\n",
      "11.647045 0.0\n",
      "11.34596 0.0\n",
      "11.247841 0.0\n",
      "11.031069 0.0\n",
      "11.004913 0.0\n",
      "10.811857 0.0\n",
      "10.613654 0.0\n",
      "10.49155 0.0\n",
      "10.406708 0.0\n"
     ]
    },
    {
     "data": {
      "text/markdown": [
       "**Node ID:** 262d58bd-8581-4e7e-b331-969b78f8c040<br>**Similarity:** 18.79261<br>**Text:** b ) phạt tiền đến 15.000.000 đồng đối_với hành_vi vi_phạm trong lĩnh_vực giao_thông đường_bộ , đường_sắt ; b ) phạt tiền đến 75.000.000 đồng đối_với hành_vi vi_phạm trong lĩnh_vực giao_thông đường_bộ , đường_sắt ; \n",
       " o ) chở người ngồi trên xe không đội “ mũ bảo_hiểm cho người đi mô_tô , xe_máy ” hoặc đội “ mũ bảo_hiểm cho người đi mô_tô , xe_máy ” không cài quai đúng quy_cách , trừ trường_hợp chở người_bệnh đi cấp_cứu , trẻ_em dưới 06 tuổi , áp_giải người có hành_vi vi_phạm_pháp_luật . ” ; \n",
       " c ) sửa_đổi khoản 5 điều 6 như sau : “ 5 . phạt tiền từ 1.000.000 đồng đến 2.000.000 đồng đối_với người điều_khiển xe thực_hiện một trong các hành_vi vi_phạm sau đây : c ) điều_khiển xe ô_tô tải ( kể_cả rơ_moóc và sơ_mi rơ_moóc ) có kích_thước thùng_xe không đúng với thông_số kỹ_thuật được ghi trong giấy chứng_nhận kiểm_định an_toàn kỹ_thuật và bảo_vệ môi_trường của xe ; c ) thực_hiện_hành_vi quy_định tại điểm a khoản 3 điều này bị tịch_thu giấy_phép lưu_hành đã hết giá_trị sử_dụng hoặc không do...<br>**Metadata:** {'filename': 'Nghị_định_123_2021_NĐ-CP_sửa_đổi_các_Nghị_định_quy.json', 'source': '123/2021/NĐ-CP, Điều 2', 'len_tokenizer': 16663, 'parent_text': 'đường bộ; b) Không nhường đường hoặc gây cản trở xe được quyền ưu tiên đang phát tín hiệu ưu tiên đi làm nhiệm vụ.”; b) Điều khiển xe (kể cả rơ moóc và sơ mi rơ moóc) không gắn biển số (đối với loại xe có quy định phải gắn biển số); b) Người điều khiển xe ô tô, máy kéo và các loại xe tương tự xe ô tô không có hoặc không mang theo Giấy chứng nhận bảo hiểm trách nhiệm dân sự của chủ xe cơ giới còn hiệu lực. b) Thực hiện hành vi quy định tại khoản 2, khoản 3 Điều này bị tước quyền sử dụng Giấy phép lái xe từ 02 tháng đến 04 tháng; b) Điều khiển xe có Giấy phép lưu hành còn giá trị sử dụng nhưng tổng trọng lượng (khối lượng toàn bộ) của xe hoặc tải trọng trục xe (bao gồm cả hàng hóa xếp trên xe nếu có) vượt quá quy định trong Giấy phép lưu hành; b) Lưu hành phương tiện trên lãnh thổ Việt Nam quá thời hạn quy định dưới 30 ngày. b) Phạt tiền đến 15.000.000 đồng đối với hành vi vi phạm trong lĩnh vực giao thông đường bộ, đường sắt; b) Phạt tiền đến 75.000.000 đồng đối với hành vi vi phạm trong lĩnh vực giao thông đường bộ, đường sắt;\\n\\to) Chở người ngồi trên xe không đội “mũ bảo hiểm cho người đi mô tô, xe máy” hoặc đội “mũ bảo hiểm cho người đi mô tô, xe máy” không cài quai đúng quy cách, trừ trường hợp chở người bệnh đi cấp cứu, trẻ em dưới 06 tuổi, áp giải người có hành vi vi phạm pháp luật.”;\\n\\tc) Sửa đổi khoản 5 Điều 6 như sau: “5. Phạt tiền từ 1.000.000 đồng đến 2.000.000 đồng đối với người điều khiển xe thực hiện một trong các hành vi vi phạm sau đây: c) Điều khiển xe ô tô tải (kể cả rơ moóc và sơ mi rơ moóc) có kích thước thùng xe không đúng với thông số kỹ thuật được ghi trong Giấy chứng nhận kiểm định an toàn kỹ thuật và bảo vệ môi trường của xe; c) Thực hiện hành vi quy định tại điểm a khoản 3 Điều này bị tịch thu Giấy phép lưu hành đã hết giá trị sử dụng hoặc không do cơ quan có thẩm quyền cấp.', 'dense_score': 0.5823841000000001, 'bm25_score': 18.79261}<br>"
      ],
      "text/plain": [
       "<IPython.core.display.Markdown object>"
      ]
     },
     "metadata": {},
     "output_type": "display_data"
    },
    {
     "data": {
      "text/markdown": [
       "**Node ID:** 0555f1f8-b7bb-40ad-8eea-61546090ae4c<br>**Similarity:** 17.551252<br>**Text:** điều 3 . kiên_quyết lập lại trật_tự kỷ_cương trong việc chấp_hành pháp_luật về trật_tự an_toàn giao_thông . bộ công_an tập_trung chỉ_đạo và tăng_cường_lực_lượng vào việc hướng_dẫn và điều_khiển giao_thông thông_suốt ; thực_hiện các biện_pháp cưỡng_chế thi_hành pháp_luật về trật_tự an_toàn giao_thông , trước_hết phải tập_trung kiểm_tra , xử_phạt nghiêm những người điều_khiển mô_tô không có giấy_phép lái_xe , kiên_quyết chấm_dứt tình_trạng người điều_khiển mô_tô không có giấy_phép lái_xe ; đồng_thời tăng_cường tuần_tra , kiểm_soát và xử_lý nghiêm_khắc những vi_phạm của người điều_khiển mô_tô , xe_máy như : chưa đủ tuổi quy_định , đua xe trái_phép , chạy quá tốc_độ , điều_khiển xe_máy lạng_lách , đánh_võng , ... . để hạn_chế thương_vong do chấn_thương sọ não từ tai_nạn giao_thông gây ra , cảnh_sát giao_thông phải kiên_quyết xử_phạt những người điều_khiển và ngồi trên mô_tô , xe_máy không đội mũ bảo_hiểm trên những đoạn đường bắt_buộc đội mũ bảo_hiểm . bộ giao_thông vận_tải có trách_nhi...<br>**Metadata:** {'filename': 'Nghị_quyết_số_13_2002_NQ-CP_về_các_giải_pháp_kiềm_.json', 'source': '13/2002/NQ-CP, Điều 3', 'len_tokenizer': 349, 'parent_text': 'Điều 3. Kiên quyết lập lại trật tự kỷ cương trong việc chấp hành pháp luật về trật tự an toàn giao thông. Bộ Công an tập trung chỉ đạo và tăng cường lực lượng vào việc hướng dẫn và điều khiển giao thông thông suốt; thực hiện các biện pháp cưỡng chế thi hành pháp luật về trật tự an toàn giao thông, trước hết phải tập trung kiểm tra, xử phạt nghiêm những người điều khiển mô tô không có giấy phép lái xe, kiên quyết chấm dứt tình trạng người điều khiển mô tô không có giấy phép lái xe; đồng thời tăng cường tuần tra, kiểm soát và xử lý nghiêm khắc những vi phạm của người điều khiển mô tô, xe máy như : chưa đủ tuổi quy định, đua xe trái phép, chạy quá tốc độ, điều khiển xe máy lạng lách, đánh võng,.... Để hạn chế thương vong do chấn thương sọ não từ tai nạn giao thông gây ra, cảnh sát giao thông phải kiên quyết xử phạt những người điều khiển và ngồi trên mô tô, xe máy không đội mũ bảo hiểm trên những đoạn đường bắt buộc đội mũ bảo hiểm. Bộ Giao thông vận tải có trách nhiệm rà soát, điều chỉnh lại những đoạn đường quy định phải đội mũ bảo hiểm khi đi mô tô, xe máy cho phù hợp. Bộ Giao thông vận tải phải thường xuyên kiểm tra các cơ sở đào tạo và công tác sát hạch cấp giấy phép lái xe, kiên quyết thu hồi giấy phép đào tạo của những cơ sở đào tạo lái xe không đủ tiêu chuẩn quy định, đình chỉ hoạt động và xử lý nghiêm khắc Hội đồng sát hạch nếu có sai phạm hoặc sát hạch viên có hành vi tiêu cực; ban hành quy định việc kiểm tra lại và đổi giấy phép lái xe theo lộ trình thích hợp, không gây phiền hà cho nhân dân. Bộ Công an chủ trì, phối hợp với Bộ Giao thông vận tải ban hành quy định việc đánh dấu số lần vi phạm Luật Giao thông đường bộ trên giấy phép lái xe hiện hành để quản lý người điều khiển phương tiện cơ giới đường bộ (kể cả người điều khiển mô tô), chỉ đạo việc cử cán bộ cảnh sát giao thông là sát hạch viên tham gia các Hội đồng sát hạch để cấp giấy phép lái xe của ngành giao thông', 'dense_score': 0.48049090000000005, 'bm25_score': 17.551252}<br>"
      ],
      "text/plain": [
       "<IPython.core.display.Markdown object>"
      ]
     },
     "metadata": {},
     "output_type": "display_data"
    },
    {
     "data": {
      "text/markdown": [
       "**Node ID:** d9bd7510-ea9d-47ea-974d-5aef60387ffe<br>**Similarity:** 20.899967<br>**Text:** trên phần đường dành cho người đi bộ qua đường ; dừng xe nơi có biển “ cấm dừng xe và đỗ xe ” ; đỗ xe tại nơi có biển “ cấm đỗ xe ” hoặc biển “ cấm dừng xe và đỗ xe ” ; không tuân_thủ các quy_định về dừng xe , đỗ xe tại nơi đường_bộ giao nhau cùng mức với đường_sắt ; dừng xe , đỗ xe trong phạm_vi an_toàn của đường_sắt , trừ hành_vi vi_phạm_quy_định tại điểm b khoản 2 , điểm b khoản 3 điều 49 nghị_định này ; \n",
       " i ) không đội “ mũ bảo_hiểm cho người đi mô_tô , xe_máy ” hoặc đội “ mũ bảo_hiểm cho người đi mô_tô , xe_máy ” không cài quai đúng quy_cách khi điều_khiển xe tham_gia giao_thông trên đường_bộ ; \n",
       " k ) chở người ngồi trên xe không đội “ mũ bảo_hiểm cho người đi mô_tô , xe_máy ” hoặc đội “ mũ bảo_hiểm cho người đi mô_tô , xe_máy ” không cài quai đúng quy_cách , trừ trường_hợp chở người_bệnh đi cấp_cứu , trẻ_em dưới 06 tuổi ,<br>**Metadata:** {'filename': 'Nghị_định_100_2019_NĐ-CP_quy_định_về_xử_phạt_vi_ph.json', 'source': '100/2019/NĐ-CP, Chương II, Điều 6, Khoản 2', 'len_tokenizer': 476, 'parent_text': '2. Phạt tiền từ 200.000 đồng đến 300.000 đồng đối với người điều khiển xe thực hiện một trong các hành vi vi phạm sau đây:\\n\\ta) Dừng xe, đỗ xe trên phần đường xe chạy ở đoạn đường ngoài đô thị nơi có lề đường;\\n\\tb) Không giảm tốc độ và nhường đường khi điều khiển xe chạy từ trong ngõ, đường nhánh ra đường chính;\\n\\tc) Điều khiển xe chạy quá tốc độ quy định từ 05 km/h đến dưới 10 km/h;\\n\\td) Điều khiển xe chạy tốc độ thấp mà không đi bên phải phần đường xe chạy gây cản trở giao thông;\\n\\tđ) Dừng xe, đỗ xe ở lòng đường đô thị gây cản trở giao thông; tụ tập từ 03 xe trở lên ở lòng đường, trong hầm đường bộ; đỗ, để xe ở lòng đường đô thị, hè phố trái quy định của pháp luật;\\n\\te) Không nhường đường cho xe xin vượt khi có đủ điều kiện an toàn; không nhường đường cho xe đi trên đường ưu tiên, đường chính từ bất kỳ hướng nào tới tại nơi đường giao nhau;\\n\\tg) Xe không được quyền ưu tiên lắp đặt, sử dụng thiết bị phát tín hiệu của xe được quyền ưu tiên;\\n\\th) Dừng xe, đỗ xe trên đường xe điện, điểm dừng đón trả khách của xe buýt, nơi đường bộ giao nhau, trên phần đường dành cho người đi bộ qua đường; dừng xe nơi có biển “Cấm dừng xe và đỗ xe”; đỗ xe tại nơi có biển “Cấm đỗ xe” hoặc biển “Cấm dừng xe và đỗ xe”; không tuân thủ các quy định về dừng xe, đỗ xe tại nơi đường bộ giao nhau cùng mức với đường sắt; dừng xe, đỗ xe trong phạm vi an toàn của đường sắt, trừ hành vi vi phạm quy định tại điểm b khoản 2, điểm b khoản 3 Điều 49 Nghị định này;\\n\\ti) Không đội “mũ bảo hiểm cho người đi mô tô, xe máy” hoặc đội “mũ bảo hiểm cho người đi mô tô, xe máy” không cài quai đúng quy cách khi điều khiển xe tham gia giao thông trên đường bộ;\\n\\tk) Chở người ngồi trên xe không đội “mũ bảo hiểm cho người đi mô tô, xe máy” hoặc đội “mũ bảo hiểm cho người đi mô tô, xe máy” không cài quai đúng quy cách, trừ trường hợp chở người bệnh đi cấp cứu, trẻ em dưới 06 tuổi,', 'dense_score': 0.47861433, 'bm25_score': 20.899967}<br>"
      ],
      "text/plain": [
       "<IPython.core.display.Markdown object>"
      ]
     },
     "metadata": {},
     "output_type": "display_data"
    },
    {
     "data": {
      "text/markdown": [
       "**Node ID:** b5655282-ef24-4e86-9560-a64f924f918c<br>**Similarity:** 18.638426<br>**Text:** ô_tô . 6 . ngoài việc bị phạt tiền , người điều_khiển phương_tiện thực_hiện_hành_vi vi_phạm còn bị áp_dụng các hình_thức xử_phạt bổ_sung sau đây : 6 . ngoài việc bị áp_dụng hình_thức xử_phạt , người điều_khiển phương_tiện thực_hiện_hành_vi vi_phạm_quy_định tại điểm b , điểm c khoản 2 ; điểm a khoản 3 ; điểm b khoản 4 ; khoản 5 điều này còn bị áp_dụng biện_pháp khắc_phục hậu_quả : buộc tái_xuất phương_tiện khỏi việt_nam . ” . 6 . cục_trưởng cục cảnh_sát giao_thông , cục_trưởng cục cảnh_sát quản_lý hành_chính về trật_tự xã_hội , cục_trưởng cục cảnh_sát phòng cháy , chữa_cháy và cứu nạn , cứu_hộ , tư_lệnh cảnh_sát cơ_động có quyền : 6 . giám_đốc cảng_vụ hàng_hải , giám_đốc cảng_vụ hàng_không , giám_đốc cảng_vụ đường thủy_nội_địa có quyền : \n",
       " e ) chở người ngồi trên xe_đạp máy ( kể_cả xe_đạp điện ) không đội “ mũ bảo_hiểm cho người đi mô_tô , xe_máy ” hoặc đội “ mũ bảo_hiểm cho người đi mô_tô , xe_máy ” không cài quai đúng quy_cách , trừ trường_hợp chở người_bệnh đi cấp_cứu , trẻ_em dướ...<br>**Metadata:** {'filename': 'Nghị_định_123_2021_NĐ-CP_sửa_đổi_các_Nghị_định_quy.json', 'source': '123/2021/NĐ-CP, Điều 2', 'len_tokenizer': 16663, 'parent_text': 'ô tô. 6. Ngoài việc bị phạt tiền, người điều khiển phương tiện thực hiện hành vi vi phạm còn bị áp dụng các hình thức xử phạt bổ sung sau đây: 6. Ngoài việc bị áp dụng hình thức xử phạt, người điều khiển phương tiện thực hiện hành vi vi phạm quy định tại điểm b, điểm c khoản 2; điểm a khoản 3; điểm b khoản 4; khoản 5 Điều này còn bị áp dụng biện pháp khắc phục hậu quả: Buộc tái xuất phương tiện khỏi Việt Nam.”. 6. Cục trưởng Cục Cảnh sát giao thông, Cục trưởng Cục Cảnh sát quản lý hành chính về trật tự xã hội, Cục trưởng Cục Cảnh sát phòng cháy, chữa cháy và cứu nạn, cứu hộ, Tư lệnh Cảnh sát cơ động có quyền: 6. Giám đốc Cảng vụ hàng hải, Giám đốc Cảng vụ hàng không, Giám đốc Cảng vụ đường thủy nội địa có quyền:\\n\\te) Chở người ngồi trên xe đạp máy (kể cả xe đạp điện) không đội “mũ bảo hiểm cho người đi mô tô, xe máy” hoặc đội “mũ bảo hiểm cho người đi mô tô, xe máy” không cài quai đúng quy cách, trừ trường hợp chở người bệnh đi cấp cứu, trẻ em dưới 06 tuổi, áp giải người có hành vi vi phạm pháp luật.”.\\n\\ta) Điều khiển xe gắn biển số không đúng với Giấy đăng ký xe hoặc gắn biển số không do cơ quan có thẩm quyền cấp (kể cả rơ moóc và sơ mi rơ moóc); a) Thực hiện hành vi quy định tại khoản 1, khoản 3, điểm a khoản 4 Điều này còn bị tước quyền sử dụng Giấy phép lái xe (khi điều khiển ô tô, máy kéo và các loại xe tương tự ô tô), chứng chỉ bồi dưỡng kiến thức pháp luật về giao thông đường bộ (khi điều khiển xe máy chuyên dùng) từ 01 tháng đến 03 tháng; a) Phạt cảnh cáo; a) Phạt cảnh cáo;\\n\\tb) Sử dụng Giấy đăng ký xe, Giấy chứng nhận, tem kiểm định an toàn kỹ thuật và bảo vệ môi trường không do cơ quan có thẩm quyền cấp hoặc bị tẩy xóa; sử dụng Giấy đăng ký xe không đúng số khung, số máy của xe (kể cả rơ moóc và sơ mi rơ moóc); b)', 'dense_score': 0.43821239999999995, 'bm25_score': 18.638426}<br>"
      ],
      "text/plain": [
       "<IPython.core.display.Markdown object>"
      ]
     },
     "metadata": {},
     "output_type": "display_data"
    },
    {
     "data": {
      "text/markdown": [
       "**Node ID:** 8ded3dbd-3de1-42e5-9713-e64e91303ca8<br>**Similarity:** 11.54544<br>**Text:** xe gắn_máy , các loại xe tương_tự xe mô_tô và các loại xe tương_tự xe gắn_máy không có hoặc không mang theo giấy chứng_nhận bảo_hiểm trách_nhiệm dân_sự của chủ xe cơ_giới còn hiệu_lực ; a ) điều_khiển phương_tiện không gắn ký_hiệu phân_biệt quốc_gia theo quy_định ; a ) phạt cảnh_cáo ; a ) phạt cảnh_cáo ; a ) phạt cảnh_cáo ; \n",
       " b ) điều_khiển xe không có còi hoặc có nhưng còi không có tác_dụng ; b ) người điều_khiển xe mô_tô , xe gắn_máy , các loại xe tương_tự xe mô_tô và các loại xe tương_tự xe gắn_máy không mang theo giấy đăng_ký xe ; b ) điều_khiển phương_tiện không có giấy_phép vận_tải quốc_tế , phù_hiệu vận_tải quốc_tế liên_vận theo quy_định hoặc có nhưng đã hết giá_trị sử_dụng ; b ) phạt tiền đến 37.500.000 đồng đối_với hành_vi vi_phạm trong lĩnh_vực giao_thông đường_bộ , đường_sắt ; b ) phạt tiền đến 1.500.000 đồng đối_với hành_vi vi_phạm trong lĩnh_vực giao_thông đường_bộ ,<br>**Metadata:** {'filename': 'Nghị_định_123_2021_NĐ-CP_sửa_đổi_các_Nghị_định_quy.json', 'source': '123/2021/NĐ-CP, Điều 2', 'len_tokenizer': 16663, 'parent_text': 'quan quản lý đường bộ ở khu vực thuộc Tổng cục Đường bộ Việt Nam, Trưởng đoàn thanh tra chuyên ngành của Sở Giao thông vận tải, Trưởng đoàn thanh tra chuyên ngành của Sở Tài nguyên và Môi trường, Trưởng đoàn thanh tra chuyên ngành của Tổng cục Môi trường, Trưởng đoàn thanh tra chuyên ngành của Tổng cục Đường bộ Việt Nam, Trưởng đoàn thanh tra chuyên ngành của Cục Đường sắt Việt Nam, Trưởng đoàn thanh tra chuyên ngành của cơ quan quản lý đường bộ ở khu vực thuộc Tổng cục Đường bộ Việt Nam có quyền:\\n\\ta) Điều khiển xe không có đủ đèn chiếu sáng, đèn soi biển số, đèn báo hãm, đèn tín hiệu, cần gạt nước, gương chiếu hậu, dây an toàn, dụng cụ thoát hiểm, thiết bị chữa cháy, đồng hồ báo áp lực hơi, đồng hồ báo tốc độ của xe hoặc có những thiết bị đó nhưng không có tác dụng, không đúng tiêu chuẩn thiết kế (đối với loại xe được quy định phải có những thiết bị đó), trừ các hành vi vi phạm quy định tại điểm m khoản 3 Điều 23, điểm q khoản 4 Điều 28 Nghị định này; a) Người điều khiển xe mô tô, xe gắn máy, các loại xe tương tự xe mô tô và các loại xe tương tự xe gắn máy không có hoặc không mang theo Giấy chứng nhận bảo hiểm trách nhiệm dân sự của chủ xe cơ giới còn hiệu lực; a) Điều khiển phương tiện không gắn ký hiệu phân biệt quốc gia theo quy định; a) Phạt cảnh cáo; a) Phạt cảnh cáo; a) Phạt cảnh cáo;\\n\\tb) Điều khiển xe không có còi hoặc có nhưng còi không có tác dụng; b) Người điều khiển xe mô tô, xe gắn máy, các loại xe tương tự xe mô tô và các loại xe tương tự xe gắn máy không mang theo Giấy đăng ký xe; b) Điều khiển phương tiện không có Giấy phép vận tải quốc tế, phù hiệu vận tải quốc tế liên vận theo quy định hoặc có nhưng đã hết giá trị sử dụng; b) Phạt tiền đến 37.500.000 đồng đối với hành vi vi phạm trong lĩnh vực giao thông đường bộ, đường sắt; b) Phạt tiền đến 1.500.000 đồng đối với hành vi vi phạm trong lĩnh vực giao thông đường bộ,', 'dense_score': 0.42710983999999996, 'bm25_score': 11.54544}<br>"
      ],
      "text/plain": [
       "<IPython.core.display.Markdown object>"
      ]
     },
     "metadata": {},
     "output_type": "display_data"
    }
   ],
   "source": [
    "from llama_index.core.response.notebook_utils import display_source_node\n",
    "for n in vector_index_retriever.retrieve(text):\n",
    "    display_source_node(n, source_length=1000, show_source_metadata=True)"
   ]
  },
  {
   "cell_type": "code",
   "execution_count": 10,
   "metadata": {},
   "outputs": [
    {
     "ename": "ModuleNotFoundError",
     "evalue": "No module named 'llama_index.llms.llama_cpp'",
     "output_type": "error",
     "traceback": [
      "\u001b[0;31m---------------------------------------------------------------------------\u001b[0m",
      "\u001b[0;31mModuleNotFoundError\u001b[0m                       Traceback (most recent call last)",
      "Cell \u001b[0;32mIn[10], line 1\u001b[0m\n\u001b[0;32m----> 1\u001b[0m \u001b[38;5;28;01mfrom\u001b[39;00m \u001b[38;5;21;01mllama_index\u001b[39;00m\u001b[38;5;21;01m.\u001b[39;00m\u001b[38;5;21;01mllms\u001b[39;00m\u001b[38;5;21;01m.\u001b[39;00m\u001b[38;5;21;01mllama_cpp\u001b[39;00m \u001b[38;5;28;01mimport\u001b[39;00m LlamaCPP\n",
      "\u001b[0;31mModuleNotFoundError\u001b[0m: No module named 'llama_index.llms.llama_cpp'"
     ]
    }
   ],
   "source": [
    "from llama_index.llms.llama_cpp import LlamaCPP"
   ]
  },
  {
   "cell_type": "code",
   "execution_count": null,
   "metadata": {},
   "outputs": [],
   "source": [
    "from src.components.llm.prompt_helper import get_prompt_style\n",
    "\n",
    "prompt_style = get_prompt_style(\"mistral\")"
   ]
  },
  {
   "cell_type": "code",
   "execution_count": null,
   "metadata": {},
   "outputs": [
    {
     "data": {
      "text/plain": [
       "<src.components.llm.prompt_helper.MistralPromptStyle at 0x7102368e1310>"
      ]
     },
     "execution_count": 9,
     "metadata": {},
     "output_type": "execute_result"
    }
   ],
   "source": [
    "prompt_style"
   ]
  },
  {
   "cell_type": "code",
   "execution_count": null,
   "metadata": {},
   "outputs": [
    {
     "name": "stderr",
     "output_type": "stream",
     "text": [
      "llama_model_loader: loaded meta data with 22 key-value pairs and 291 tensors from models/ggml-vistral-7B-chat-q4_0.gguf (version GGUF V3 (latest))\n",
      "llama_model_loader: Dumping metadata keys/values. Note: KV overrides do not apply in this output.\n",
      "llama_model_loader: - kv   0:                       general.architecture str              = llama\n",
      "llama_model_loader: - kv   1:                               general.name str              = .\n",
      "llama_model_loader: - kv   2:                       llama.context_length u32              = 32768\n",
      "llama_model_loader: - kv   3:                     llama.embedding_length u32              = 4096\n",
      "llama_model_loader: - kv   4:                          llama.block_count u32              = 32\n",
      "llama_model_loader: - kv   5:                  llama.feed_forward_length u32              = 14336\n",
      "llama_model_loader: - kv   6:                 llama.rope.dimension_count u32              = 128\n",
      "llama_model_loader: - kv   7:                 llama.attention.head_count u32              = 32\n",
      "llama_model_loader: - kv   8:              llama.attention.head_count_kv u32              = 8\n",
      "llama_model_loader: - kv   9:     llama.attention.layer_norm_rms_epsilon f32              = 0.000010\n",
      "llama_model_loader: - kv  10:                       llama.rope.freq_base f32              = 10000.000000\n",
      "llama_model_loader: - kv  11:                          general.file_type u32              = 2\n",
      "llama_model_loader: - kv  12:                       tokenizer.ggml.model str              = llama\n",
      "llama_model_loader: - kv  13:                      tokenizer.ggml.tokens arr[str,38369]   = [\"<unk>\", \"<s>\", \"</s>\", \"<0x00>\", \"<...\n",
      "llama_model_loader: - kv  14:                      tokenizer.ggml.scores arr[f32,38369]   = [0.000000, 0.000000, 0.000000, 0.0000...\n",
      "llama_model_loader: - kv  15:                  tokenizer.ggml.token_type arr[i32,38369]   = [2, 3, 3, 6, 6, 6, 6, 6, 6, 6, 6, 6, ...\n",
      "llama_model_loader: - kv  16:                tokenizer.ggml.bos_token_id u32              = 1\n",
      "llama_model_loader: - kv  17:                tokenizer.ggml.eos_token_id u32              = 2\n",
      "llama_model_loader: - kv  18:            tokenizer.ggml.unknown_token_id u32              = 0\n",
      "llama_model_loader: - kv  19:            tokenizer.ggml.padding_token_id u32              = 0\n",
      "llama_model_loader: - kv  20:                    tokenizer.chat_template str              = {% if messages[0]['role'] == 'system'...\n",
      "llama_model_loader: - kv  21:               general.quantization_version u32              = 2\n",
      "llama_model_loader: - type  f32:   65 tensors\n",
      "llama_model_loader: - type q4_0:  225 tensors\n",
      "llama_model_loader: - type q6_K:    1 tensors\n",
      "llm_load_vocab: special tokens definition check successful ( 263/38369 ).\n",
      "llm_load_print_meta: format           = GGUF V3 (latest)\n",
      "llm_load_print_meta: arch             = llama\n",
      "llm_load_print_meta: vocab type       = SPM\n",
      "llm_load_print_meta: n_vocab          = 38369\n",
      "llm_load_print_meta: n_merges         = 0\n",
      "llm_load_print_meta: n_ctx_train      = 32768\n",
      "llm_load_print_meta: n_embd           = 4096\n",
      "llm_load_print_meta: n_head           = 32\n",
      "llm_load_print_meta: n_head_kv        = 8\n",
      "llm_load_print_meta: n_layer          = 32\n",
      "llm_load_print_meta: n_rot            = 128\n",
      "llm_load_print_meta: n_embd_head_k    = 128\n",
      "llm_load_print_meta: n_embd_head_v    = 128\n",
      "llm_load_print_meta: n_gqa            = 4\n",
      "llm_load_print_meta: n_embd_k_gqa     = 1024\n",
      "llm_load_print_meta: n_embd_v_gqa     = 1024\n",
      "llm_load_print_meta: f_norm_eps       = 0.0e+00\n",
      "llm_load_print_meta: f_norm_rms_eps   = 1.0e-05\n",
      "llm_load_print_meta: f_clamp_kqv      = 0.0e+00\n",
      "llm_load_print_meta: f_max_alibi_bias = 0.0e+00\n",
      "llm_load_print_meta: f_logit_scale    = 0.0e+00\n",
      "llm_load_print_meta: n_ff             = 14336\n",
      "llm_load_print_meta: n_expert         = 0\n",
      "llm_load_print_meta: n_expert_used    = 0\n",
      "llm_load_print_meta: causal attn      = 1\n",
      "llm_load_print_meta: pooling type     = 0\n",
      "llm_load_print_meta: rope type        = 0\n",
      "llm_load_print_meta: rope scaling     = linear\n",
      "llm_load_print_meta: freq_base_train  = 10000.0\n",
      "llm_load_print_meta: freq_scale_train = 1\n",
      "llm_load_print_meta: n_yarn_orig_ctx  = 32768\n",
      "llm_load_print_meta: rope_finetuned   = unknown\n",
      "llm_load_print_meta: ssm_d_conv       = 0\n",
      "llm_load_print_meta: ssm_d_inner      = 0\n",
      "llm_load_print_meta: ssm_d_state      = 0\n",
      "llm_load_print_meta: ssm_dt_rank      = 0\n",
      "llm_load_print_meta: model type       = 7B\n",
      "llm_load_print_meta: model ftype      = Q4_0\n",
      "llm_load_print_meta: model params     = 7.29 B\n",
      "llm_load_print_meta: model size       = 3.86 GiB (4.55 BPW) \n",
      "llm_load_print_meta: general.name     = .\n",
      "llm_load_print_meta: BOS token        = 1 '<s>'\n",
      "llm_load_print_meta: EOS token        = 2 '</s>'\n",
      "llm_load_print_meta: UNK token        = 0 '<unk>'\n",
      "llm_load_print_meta: PAD token        = 0 '<unk>'\n",
      "llm_load_print_meta: LF token         = 13 '<0x0A>'\n",
      "llm_load_tensors: ggml ctx size =    0.11 MiB\n",
      "llm_load_tensors:        CPU buffer size =  3952.27 MiB\n",
      ".................................................................................................\n",
      "llama_new_context_with_model: n_ctx      = 3904\n",
      "llama_new_context_with_model: n_batch    = 512\n",
      "llama_new_context_with_model: n_ubatch   = 512\n",
      "llama_new_context_with_model: freq_base  = 10000.0\n",
      "llama_new_context_with_model: freq_scale = 1\n",
      "llama_kv_cache_init:        CPU KV buffer size =   488.00 MiB\n",
      "llama_new_context_with_model: KV self size  =  488.00 MiB, K (f16):  244.00 MiB, V (f16):  244.00 MiB\n",
      "llama_new_context_with_model:        CPU  output buffer size =     0.15 MiB\n",
      "llama_new_context_with_model:        CPU compute buffer size =   283.63 MiB\n",
      "llama_new_context_with_model: graph nodes  = 1030\n",
      "llama_new_context_with_model: graph splits = 1\n",
      "AVX = 1 | AVX_VNNI = 0 | AVX2 = 1 | AVX512 = 1 | AVX512_VBMI = 1 | AVX512_VNNI = 1 | FMA = 1 | NEON = 0 | ARM_FMA = 0 | F16C = 1 | FP16_VA = 0 | WASM_SIMD = 0 | BLAS = 0 | SSE3 = 1 | SSSE3 = 1 | VSX = 0 | MATMUL_INT8 = 0 | \n",
      "Model metadata: {'tokenizer.chat_template': \"{% if messages[0]['role'] == 'system' %}{% set loop_messages = messages[1:] %}{% set system_message = messages[0]['content'] %}{% else %}{% set loop_messages = messages %}{% set system_message = false %}{% endif %}{% for message in loop_messages %}{% if (message['role'] == 'user') != (loop.index0 % 2 == 0) %}{{ raise_exception('Conversation roles must alternate user/assistant/user/assistant/...') }}{% endif %}{% if loop.index0 == 0 and system_message != false %}{% set content = '<<SYS>>\\\\n' + system_message + '\\\\n<</SYS>>\\\\n\\\\n' + message['content'] %}{% else %}{% set content = message['content'] %}{% endif %}{% if message['role'] == 'user' %}{{ bos_token + '[INST] ' + content.strip() + ' [/INST]' }}{% elif message['role'] == 'assistant' %}{{ ' '  + content.strip() + ' ' + eos_token }}{% endif %}{% endfor %}\", 'tokenizer.ggml.padding_token_id': '0', 'tokenizer.ggml.unknown_token_id': '0', 'tokenizer.ggml.eos_token_id': '2', 'general.architecture': 'llama', 'llama.rope.freq_base': '10000.000000', 'llama.context_length': '32768', 'general.name': '.', 'llama.embedding_length': '4096', 'llama.feed_forward_length': '14336', 'llama.attention.layer_norm_rms_epsilon': '0.000010', 'llama.rope.dimension_count': '128', 'tokenizer.ggml.bos_token_id': '1', 'llama.attention.head_count': '32', 'llama.block_count': '32', 'llama.attention.head_count_kv': '8', 'general.quantization_version': '2', 'tokenizer.ggml.model': 'llama', 'general.file_type': '2'}\n",
      "Using gguf chat template: {% if messages[0]['role'] == 'system' %}{% set loop_messages = messages[1:] %}{% set system_message = messages[0]['content'] %}{% else %}{% set loop_messages = messages %}{% set system_message = false %}{% endif %}{% for message in loop_messages %}{% if (message['role'] == 'user') != (loop.index0 % 2 == 0) %}{{ raise_exception('Conversation roles must alternate user/assistant/user/assistant/...') }}{% endif %}{% if loop.index0 == 0 and system_message != false %}{% set content = '<<SYS>>\\n' + system_message + '\\n<</SYS>>\\n\\n' + message['content'] %}{% else %}{% set content = message['content'] %}{% endif %}{% if message['role'] == 'user' %}{{ bos_token + '[INST] ' + content.strip() + ' [/INST]' }}{% elif message['role'] == 'assistant' %}{{ ' '  + content.strip() + ' ' + eos_token }}{% endif %}{% endfor %}\n",
      "Using chat eos_token: </s>\n",
      "Using chat bos_token: <s>\n"
     ]
    }
   ],
   "source": [
    "from llama_index.core.settings import Settings as LlamaIndexSettings\n",
    "\n",
    "settings_kwargs = {\n",
    "    \"tfs_z\": 1,  # ollama and llama-cpp\n",
    "    \"top_k\": 40,  # ollama and llama-cpp\n",
    "    \"top_p\": 0.9,  # ollama and llama-cpp\n",
    "    \"repeat_penalty\": 1.1,  # ollama llama-cpp\n",
    "    \"n_gpu_layers\": -1,\n",
    "    \"offload_kqv\": True,\n",
    "}\n",
    "llm = LlamaCPP(\n",
    "    model_path=str('models/ggml-vistral-7B-chat-q4_0.gguf'),\n",
    "    temperature=0.1,\n",
    "    max_new_tokens=512,\n",
    "    context_window=3900,\n",
    "    generate_kwargs={},\n",
    "    callback_manager=LlamaIndexSettings.callback_manager,\n",
    "    # All to GPU\n",
    "    model_kwargs=settings_kwargs,\n",
    "    # transform inputs into Llama2 format\n",
    "    messages_to_prompt=prompt_style.messages_to_prompt,\n",
    "    completion_to_prompt=prompt_style.completion_to_prompt,\n",
    "    verbose=True,\n",
    ")"
   ]
  },
  {
   "cell_type": "code",
   "execution_count": null,
   "metadata": {},
   "outputs": [],
   "source": [
    "index = VectorStoreIndex.from_vector_store(\n",
    "    vector_store,\n",
    "    embed_model=embed_model,\n",
    "    llm=llm\n",
    ")"
   ]
  },
  {
   "cell_type": "code",
   "execution_count": null,
   "metadata": {},
   "outputs": [],
   "source": [
    "vector_index_retriever = VectorIndexRetriever(\n",
    "    index=index,\n",
    "    similarity_top_k=10,\n",
    "    doc_ids=None,\n",
    "    filters=(\n",
    "        None\n",
    "    )\n",
    ")"
   ]
  },
  {
   "cell_type": "code",
   "execution_count": null,
   "metadata": {},
   "outputs": [
    {
     "name": "stderr",
     "output_type": "stream",
     "text": [
      "12:04:31.509 [INFO    ]                     httpx - HTTP Request: POST http://localhost:8081/embed \"HTTP/1.1 200 OK\"\n"
     ]
    },
    {
     "data": {
      "text/markdown": [
       "**Node ID:** a80bb383-bde5-4045-b653-e5c64b7980ea<br>**Similarity:** 0.39883685<br>**Text:** điều 20 . xử_phạt đối_với hành_vi vi_phạm_quy_định về trích_lập quỹ bảo_vệ người được bảo_hiểm \n",
       " 1 . phạt cảnh_cáo đối_với hành_vi trích nộp quỹ bảo_vệ người được bảo_hiểm không đúng thời_hạn theo quy_định của pháp_luật . \n",
       " 2 . phạt tiền từ 20.000.000 đồng đến 30.000.000 đồng đối_với hành_vi không trích nộp đủ quỹ bảo_vệ người được bảo_hiểm theo quy_định của pháp_luật . \n",
       " 3 . phạt tiền từ 60.000.000 đồng đến 70.000.000 đồng đối_với hành_vi vi_phạm không trích nộp quỹ bảo_vệ người được bảo_hiểm theo quy_định của pháp_luật .<br>**Metadata:** {'filename': 'Nghị_định_98_2013_NĐ-CP_quy_định_xử_phạt_vi_phạm_h.json', 'source': '98/2013/NĐ-CP, Chương 2, MỤC 3, Điều 20', 'len_tokenizer': 93, 'parent_text': 'Điều 20. Xử phạt đối với hành vi vi phạm quy định về trích lập Quỹ bảo vệ người được bảo hiểm\\n1. Phạt cảnh cáo đối với hành vi trích nộp Quỹ bảo vệ người được bảo hiểm không đúng thời hạn theo quy định của pháp luật.\\n2. Phạt tiền từ 20.000.000 đồng đến 30.000.000 đồng đối với hành vi không trích nộp đủ Quỹ bảo vệ người được bảo hiểm theo quy định của pháp luật.\\n3. Phạt tiền từ 60.000.000 đồng đến 70.000.000 đồng đối với hành vi vi phạm không trích nộp Quỹ bảo vệ người được bảo hiểm theo quy định của pháp luật.'}<br>"
      ],
      "text/plain": [
       "<IPython.core.display.Markdown object>"
      ]
     },
     "metadata": {},
     "output_type": "display_data"
    },
    {
     "data": {
      "text/markdown": [
       "**Node ID:** 8ab15407-e7c6-4b15-8172-2efa8e2a10a7<br>**Similarity:** 0.38667929999999995<br>**Text:** b ) phạt tiền đến 15.000.000 đồng đối_với hành_vi vi_phạm trong lĩnh_vực giao_thông đường_bộ , đường_sắt ; b ) phạt tiền đến 75.000.000 đồng đối_với hành_vi vi_phạm trong lĩnh_vực giao_thông đường_bộ , đường_sắt ; \n",
       " o ) chở người ngồi trên xe không đội “ mũ bảo_hiểm cho người đi mô_tô , xe_máy ” hoặc đội “ mũ bảo_hiểm cho người đi mô_tô , xe_máy ” không cài quai đúng quy_cách , trừ trường_hợp chở người_bệnh đi cấp_cứu , trẻ_em dưới 06 tuổi , áp_giải người có hành_vi vi_phạm_pháp_luật . ” ; \n",
       " c ) sửa_đổi khoản 5 điều 6 như sau : “ 5 . phạt tiền từ 1.000.000 đồng đến 2.000.000 đồng đối_với người điều_khiển xe thực_hiện một trong các hành_vi vi_phạm sau đây : c ) điều_khiển xe ô_tô tải ( kể_cả rơ_moóc và sơ_mi rơ_moóc ) có kích_thước thùng_xe không đúng với thông_số kỹ_thuật được ghi trong giấy chứng_nhận kiểm_định an_toàn kỹ_thuật và bảo_vệ môi_trường của xe ; c ) thực_hiện_hành_vi quy_định tại điểm a khoản 3 điều này bị tịch_thu giấy_phép lưu_hành đã hết giá_trị sử_dụng hoặc không do...<br>**Metadata:** {'filename': 'Nghị_định_123_2021_NĐ-CP_sửa_đổi_các_Nghị_định_quy.json', 'source': '123/2021/NĐ-CP, Điều 2', 'len_tokenizer': 16663, 'parent_text': 'đường bộ; b) Không nhường đường hoặc gây cản trở xe được quyền ưu tiên đang phát tín hiệu ưu tiên đi làm nhiệm vụ.”; b) Điều khiển xe (kể cả rơ moóc và sơ mi rơ moóc) không gắn biển số (đối với loại xe có quy định phải gắn biển số); b) Người điều khiển xe ô tô, máy kéo và các loại xe tương tự xe ô tô không có hoặc không mang theo Giấy chứng nhận bảo hiểm trách nhiệm dân sự của chủ xe cơ giới còn hiệu lực. b) Thực hiện hành vi quy định tại khoản 2, khoản 3 Điều này bị tước quyền sử dụng Giấy phép lái xe từ 02 tháng đến 04 tháng; b) Điều khiển xe có Giấy phép lưu hành còn giá trị sử dụng nhưng tổng trọng lượng (khối lượng toàn bộ) của xe hoặc tải trọng trục xe (bao gồm cả hàng hóa xếp trên xe nếu có) vượt quá quy định trong Giấy phép lưu hành; b) Lưu hành phương tiện trên lãnh thổ Việt Nam quá thời hạn quy định dưới 30 ngày. b) Phạt tiền đến 15.000.000 đồng đối với hành vi vi phạm trong lĩnh vực giao thông đường bộ, đường sắt; b) Phạt tiền đến 75.000.000 đồng đối với hành vi vi phạm trong lĩnh vực giao thông đường bộ, đường sắt;\\n\\to) Chở người ngồi trên xe không đội “mũ bảo hiểm cho người đi mô tô, xe máy” hoặc đội “mũ bảo hiểm cho người đi mô tô, xe máy” không cài quai đúng quy cách, trừ trường hợp chở người bệnh đi cấp cứu, trẻ em dưới 06 tuổi, áp giải người có hành vi vi phạm pháp luật.”;\\n\\tc) Sửa đổi khoản 5 Điều 6 như sau: “5. Phạt tiền từ 1.000.000 đồng đến 2.000.000 đồng đối với người điều khiển xe thực hiện một trong các hành vi vi phạm sau đây: c) Điều khiển xe ô tô tải (kể cả rơ moóc và sơ mi rơ moóc) có kích thước thùng xe không đúng với thông số kỹ thuật được ghi trong Giấy chứng nhận kiểm định an toàn kỹ thuật và bảo vệ môi trường của xe; c) Thực hiện hành vi quy định tại điểm a khoản 3 Điều này bị tịch thu Giấy phép lưu hành đã hết giá trị sử dụng hoặc không do cơ quan có thẩm quyền cấp.'}<br>"
      ],
      "text/plain": [
       "<IPython.core.display.Markdown object>"
      ]
     },
     "metadata": {},
     "output_type": "display_data"
    },
    {
     "data": {
      "text/markdown": [
       "**Node ID:** 210346c0-0861-408d-8ba9-ed80dbe610a5<br>**Similarity:** 0.38451029999999997<br>**Text:** 1 . phạt tiền từ 500.000 đồng đến 1.000.000 đồng đối_với hành_vi không trang_bị hoặc trang_bị không đủ áo_phao hoặc dụng_cụ nổi cứu_sinh cá_nhân theo quy_định , mức phạt tính trên mỗi áo_phao , dụng_cụ nổi cứu_sinh cá_nhân .<br>**Metadata:** {'filename': 'Decree_No._139_2021_ND-CP_dated_December_31,_2021_.json', 'source': '139/2021/ND-CP, Chương II, Mục 2, Điều 16, Khoản 1', 'len_tokenizer': 41, 'parent_text': '1. Phạt tiền từ 500.000 đồng đến 1.000.000 đồng đối với hành vi không trang bị hoặc trang bị không đủ áo phao hoặc dụng cụ nổi cứu sinh cá nhân theo quy định, mức phạt tính trên mỗi áo phao, dụng cụ nổi cứu sinh cá nhân.'}<br>"
      ],
      "text/plain": [
       "<IPython.core.display.Markdown object>"
      ]
     },
     "metadata": {},
     "output_type": "display_data"
    },
    {
     "data": {
      "text/markdown": [
       "**Node ID:** f7716b29-1070-44e7-8456-255629f1cc6e<br>**Similarity:** 0.38451029999999997<br>**Text:** 1 . phạt tiền từ 500.000 đồng đến 1.000.000 đồng đối_với hành_vi không trang_bị hoặc trang_bị không đủ áo_phao hoặc dụng_cụ nổi cứu_sinh cá_nhân theo quy_định , mức phạt tính trên mỗi áo_phao , dụng_cụ nổi cứu_sinh cá_nhân .<br>**Metadata:** {'filename': 'Nghị_định_139_2021_NĐ-CP_quy_định_về_xử_phạt_vi_ph.json', 'source': '139/2021/NĐ-CP, Chương II, Mục 2, Điều 16, Khoản 1', 'len_tokenizer': 41, 'parent_text': '1. Phạt tiền từ 500.000 đồng đến 1.000.000 đồng đối với hành vi không trang bị hoặc trang bị không đủ áo phao hoặc dụng cụ nổi cứu sinh cá nhân theo quy định, mức phạt tính trên mỗi áo phao, dụng cụ nổi cứu sinh cá nhân.'}<br>"
      ],
      "text/plain": [
       "<IPython.core.display.Markdown object>"
      ]
     },
     "metadata": {},
     "output_type": "display_data"
    },
    {
     "data": {
      "text/markdown": [
       "**Node ID:** 591597b6-e974-4d28-a8e5-d0e41602e644<br>**Similarity:** 0.3689017<br>**Text:** điều 28 . vi_phạm_quy_định trong sản_xuất mũ bảo_hiểm \n",
       " 1 . phạt tiền từ 30.000.000 đồng đến 40.000.000 đồng đối_với một trong các hành_vi sau đây : \n",
       " a ) sản_xuất mũ bảo_hiểm khi chưa được cơ_quan có thẩm_quyền cấp giấy chứng_nhận đủ điều_kiện sản_xuất mũ bảo_hiểm ; \n",
       " b ) sử_dụng giấy chứng_nhận đủ điều_kiện sản_xuất mũ bảo_hiểm đã hết hiệu_lực . \n",
       " 2 . biện_pháp khắc_phục hậu_quả : \n",
       " a ) buộc thu_hồi giấy chứng_nhận đủ điều_kiện sản_xuất mũ bảo_hiểm đối_với vi_phạm_quy_định tại điểm b khoản 1 điều này ; \n",
       " b ) buộc nộp lại số lợi bất_hợp_pháp có được do thực_hiện vi_phạm_quy_định tại khoản 1 điều này .<br>**Metadata:** {'filename': 'Nghị_định_119_2017_NĐ-CP_quy_định_về_xử_phạt_vi_ph.json', 'source': '119/2017/NĐ-CP, Chương II, Mục 2, Điều 28', 'len_tokenizer': 115, 'parent_text': 'Điều 28. Vi phạm quy định trong sản xuất mũ bảo hiểm\\n1. Phạt tiền từ 30.000.000 đồng đến 40.000.000 đồng đối với một trong các hành vi sau đây:\\n\\ta) Sản xuất mũ bảo hiểm khi chưa được cơ quan có thẩm quyền cấp giấy chứng nhận đủ điều kiện sản xuất mũ bảo hiểm;\\n\\tb) Sử dụng giấy chứng nhận đủ điều kiện sản xuất mũ bảo hiểm đã hết hiệu lực.\\n2. Biện pháp khắc phục hậu quả:\\n\\ta) Buộc thu hồi giấy chứng nhận đủ điều kiện sản xuất mũ bảo hiểm đối với vi phạm quy định tại điểm b khoản 1 Điều này;\\n\\tb) Buộc nộp lại số lợi bất hợp pháp có được do thực hiện vi phạm quy định tại khoản 1 Điều này.'}<br>"
      ],
      "text/plain": [
       "<IPython.core.display.Markdown object>"
      ]
     },
     "metadata": {},
     "output_type": "display_data"
    },
    {
     "data": {
      "text/markdown": [
       "**Node ID:** bfe015c2-6f90-471b-8a77-57a7ddd45d8a<br>**Similarity:** 0.3391267<br>**Text:** điều 35 . vi_phạm_quy_định về không bảo_đảm an_toàn dẫn đến tai_nạn , thương_tích cho trẻ_em \n",
       " 1 . phạt tiền từ 20.000.000 đồng đến 30.000.000 đồng đối_với một trong các hành_vi sau đây : \n",
       " a ) không thông_báo , cảnh_báo những nơi nguy_hiểm , độc_hại , dễ cháy , nổ , điện giật , rơi , ngã và các nguy_cơ khác dẫn đến tai_nạn , thương_tích cho trẻ_em ; \n",
       " b ) không tuân_thủ đầy_đủ , kịp_thời các biện_pháp_bảo_đảm an_toàn về sản_xuất , kinh_doanh , lưu_hành các phương_tiện giao_thông vận_tải dẫn đến tai_nạn , thương_tích cho trẻ_em . \n",
       " 2 . biện_pháp khắc_phục hậu_quả : \n",
       " a ) buộc thực_hiện kịp_thời các biện_pháp để khắc_phục tình_trạng thiếu an_toàn đối_với hành_vi vi_phạm tại khoản 1 điều này ; \n",
       " b ) buộc chịu mọi chi_phí khám bệnh , chữa bệnh ( nếu có ) cho trẻ_em đối_với hành_vi vi_phạm tại khoản 1 điều này .<br>**Metadata:** {'filename': 'Nghị_định_130_2021_NĐ-CP_quy_định_về_xử_phạt_vi_ph.json', 'source': '130/2021/NĐ-CP, Chương II, Mục 2, Điều 35', 'len_tokenizer': 155, 'parent_text': 'Điều 35. Vi phạm quy định về không bảo đảm an toàn dẫn đến tai nạn, thương tích cho trẻ em\\n1. Phạt tiền từ 20.000.000 đồng đến 30.000.000 đồng đối với một trong các hành vi sau đây:\\n\\ta) Không thông báo, cảnh báo những nơi nguy hiểm, độc hại, dễ cháy, nổ, điện giật, rơi, ngã và các nguy cơ khác dẫn đến tai nạn, thương tích cho trẻ em;\\n\\tb) Không tuân thủ đầy đủ, kịp thời các biện pháp bảo đảm an toàn về sản xuất, kinh doanh, lưu hành các phương tiện giao thông vận tải dẫn đến tai nạn, thương tích cho trẻ em.\\n2. Biện pháp khắc phục hậu quả:\\n\\ta) Buộc thực hiện kịp thời các biện pháp để khắc phục tình trạng thiếu an toàn đối với hành vi vi phạm tại khoản 1 Điều này;\\n\\tb) Buộc chịu mọi chi phí khám bệnh, chữa bệnh (nếu có) cho trẻ em đối với hành vi vi phạm tại khoản 1 Điều này.'}<br>"
      ],
      "text/plain": [
       "<IPython.core.display.Markdown object>"
      ]
     },
     "metadata": {},
     "output_type": "display_data"
    },
    {
     "data": {
      "text/markdown": [
       "**Node ID:** 742e22a6-fb95-42e9-b21a-c0e1a5d968d8<br>**Similarity:** 0.33852530000000003<br>**Text:** điều 6 . xử_phạt người điều_khiển , người ngồi trên xe mô_tô , xe gắn_máy ( kể_cả xe_máy_điện ) , các loại xe tương_tự xe mô_tô và các loại xe tương_tự xe gắn_máy vi_phạm_quy_tắc giao_thông đường_bộ \n",
       " 1 . phạt tiền từ 60.000 đồng đến 80.000 đồng đối_với một trong các hành_vi vi_phạm sau đây : \n",
       " a ) không chấp_hành hiệu_lệnh , chỉ_dẫn của biển_báo_hiệu , vạch kẻ đường , trừ các hành_vi vi_phạm_quy_định tại điểm a , điểm d , điểm đ , điểm h khoản 2 ; điểm c , điểm đ , điểm h , điểm m khoản 3 ; điểm c , điểm d , điểm g , điểm i khoản 4 ; điểm a , điểm b , điểm c , điểm d , điểm e khoản 5 ; điểm b khoản 7 ; điểm a khoản 8 ; điểm d khoản 9 điều này ; \n",
       " b ) không có báo_hiệu xin vượt trước khi vượt ; \n",
       " c ) không giữ khoảng_cách an_toàn để xảy ra va_chạm với xe chạy liền trước hoặc không giữ khoảng_cách theo quy_định của biển_báo_hiệu “ cự_ly tối_thiểu giữa hai xe ” ; \n",
       " d ) chuyển_hướng không nhường quyền đi trước cho : người đi bộ , xe_lăn của người khuyết_tật qua đường tại nơi có vạch kẻ...<br>**Metadata:** {'filename': 'Nghị_định_46_2016_NĐ-CP_quy_định_xử_phạt_vi_phạm_h.json', 'source': '46/2016/NĐ-CP, Chương II, Điều 6', 'len_tokenizer': 2440, 'parent_text': 'Điều 6. Xử phạt người điều khiển, người ngồi trên xe mô tô, xe gắn máy (kể cả xe máy điện), các loại xe tương tự xe mô tô và các loại xe tương tự xe gắn máy vi phạm quy tắc giao thông đường bộ\\n1. Phạt tiền từ 60.000 đồng đến 80.000 đồng đối với một trong các hành vi vi phạm sau đây:\\n\\ta) Không chấp hành hiệu lệnh, chỉ dẫn của biển báo hiệu, vạch kẻ đường, trừ các hành vi vi phạm quy định tại Điểm a, Điểm d, Điểm đ, Điểm h Khoản 2; Điểm c, Điểm đ, Điểm h, Điểm m Khoản 3; Điểm c, Điểm d, Điểm g, Điểm i Khoản 4; Điểm a, Điểm b, Điểm c, Điểm d, Điểm e Khoản 5; Điểm b Khoản 7; Điểm a Khoản 8; Điểm d Khoản 9 Điều này;\\n\\tb) Không có báo hiệu xin vượt trước khi vượt;\\n\\tc) Không giữ khoảng cách an toàn để xảy ra va chạm với xe chạy liền trước hoặc không giữ khoảng cách theo quy định của biển báo hiệu “Cự ly tối thiểu giữa hai xe”;\\n\\td) Chuyển hướng không nhường quyền đi trước cho: Người đi bộ, xe lăn của người khuyết tật qua đường tại nơi có vạch kẻ đường dành cho người đi bộ; xe thô sơ đang đi trên phần đường dành cho xe thô sơ;\\n\\tđ) Chuyển hướng không nhường đường cho: Các xe đi ngược chiều; người đi bộ, xe lăn của người khuyết tật đang qua đường tại nơi không có vạch kẻ đường cho người đi bộ;\\n\\te) Lùi xe mô tô ba bánh không quan sát hoặc không có tín hiệu báo trước;\\n\\tg) Sử dụng đèn chiếu xa khi tránh xe đi ngược chiều;\\n\\th) Chở người ngồi trên xe sử dụng ô (dù);\\n\\ti) Không tuân thủ các quy định về nhường đường tại nơi đường giao nhau, trừ các hành vi vi phạm quy định tại các Điểm d Khoản 2, Điểm b Khoản 3 Điều này.\\n2. Phạt tiền từ 80.000 đồng đến 100.000 đồng đối với người điều khiển xe thực hiện một trong các hành vi vi phạm sau đây:\\n\\ta) Chuyển làn đường không đúng nơi được phép hoặc không có tín hiệu báo trước;\\n\\tb) Điều khiển xe chạy dàn hàng ngang từ 3 (ba) xe trở lên;\\n\\tc) Không sử dụng đèn chiếu sáng trong thời gian từ 19 giờ ngày'}<br>"
      ],
      "text/plain": [
       "<IPython.core.display.Markdown object>"
      ]
     },
     "metadata": {},
     "output_type": "display_data"
    },
    {
     "data": {
      "text/markdown": [
       "**Node ID:** 4d0b254b-b192-44b8-897e-3cb76445b2ee<br>**Similarity:** 0.32410866000000005<br>**Text:** 6 . phạt tiền từ 40.000.000 đồng ( bốn mươi triệu đồng ) đến 60.000.000 đồng ( sáu mươi triệu đồng ) đối_với hành_vi không mua bảo_hiểm trách_nhiệm dân_sự hoặc không thực_hiện các biện_pháp_bảo_đảm khác đối_với hành_khách , hành_lý , hàng_hóa , bưu gửi .<br>**Metadata:** {'filename': 'Nghị_định_162_2018_NĐ-CP_quy_định_về_xử_phạt_vi_ph.json', 'source': '162/2018/NĐ-CP, Chương II, Mục 6, Điều 24, Khoản 6', 'len_tokenizer': 55, 'parent_text': '6. Phạt tiền từ 40.000.000 đồng (bốn mươi triệu đồng) đến 60.000.000 đồng (sáu mươi triệu đồng) đối với hành vi không mua bảo hiểm trách nhiệm dân sự hoặc không thực hiện các biện pháp bảo đảm khác đối với hành khách, hành lý, hàng hóa, bưu gửi.'}<br>"
      ],
      "text/plain": [
       "<IPython.core.display.Markdown object>"
      ]
     },
     "metadata": {},
     "output_type": "display_data"
    },
    {
     "data": {
      "text/markdown": [
       "**Node ID:** db896939-efdd-4fdc-ad63-5090d702a1d5<br>**Similarity:** 0.3227502<br>**Text:** 5 . phạt tiền từ 800.000 đồng đến 1.000.000 đồng đối_với một trong các hành_vi vi_phạm sau đây : \n",
       " a ) chạy xe trong hầm đường_bộ không sử_dụng đèn_chiếu sáng ; lùi xe , quay đầu xe trong hầm đường_bộ ; \n",
       " b ) không thực_hiện biện_pháp_bảo_đảm an_toàn theo quy_định khi phương_tiện bị hư_hỏng trên đoạn đường_bộ giao nhau cùng mức với đường_sắt ; \n",
       " c ) dừng xe , đỗ xe trong hầm đường_bộ không đúng nơi quy_định .<br>**Metadata:** {'filename': 'Nghị_định_46_2016_NĐ-CP_quy_định_xử_phạt_vi_phạm_h.json', 'source': '46/2016/NĐ-CP, Chương II, Điều 7, Khoản 5', 'len_tokenizer': 82, 'parent_text': '5. Phạt tiền từ 800.000 đồng đến 1.000.000 đồng đối với một trong các hành vi vi phạm sau đây:\\n\\ta) Chạy xe trong hầm đường bộ không sử dụng đèn chiếu sáng; lùi xe, quay đầu xe trong hầm đường bộ;\\n\\tb) Không thực hiện biện pháp bảo đảm an toàn theo quy định khi phương tiện bị hư hỏng trên đoạn đường bộ giao nhau cùng mức với đường sắt;\\n\\tc) Dừng xe, đỗ xe trong hầm đường bộ không đúng nơi quy định.'}<br>"
      ],
      "text/plain": [
       "<IPython.core.display.Markdown object>"
      ]
     },
     "metadata": {},
     "output_type": "display_data"
    },
    {
     "data": {
      "text/markdown": [
       "**Node ID:** 7e1ec46a-25f2-43f2-8009-9e2c6db6e345<br>**Similarity:** 0.32269585<br>**Text:** trên phần đường dành cho người đi bộ qua đường ; dừng xe nơi có biển “ cấm dừng xe và đỗ xe ” ; đỗ xe tại nơi có biển “ cấm đỗ xe ” hoặc biển “ cấm dừng xe và đỗ xe ” ; không tuân_thủ các quy_định về dừng xe , đỗ xe tại nơi đường_bộ giao nhau cùng mức với đường_sắt ; dừng xe , đỗ xe trong phạm_vi an_toàn của đường_sắt , trừ hành_vi vi_phạm_quy_định tại điểm b khoản 2 , điểm b khoản 3 điều 49 nghị_định này ; \n",
       " i ) không đội “ mũ bảo_hiểm cho người đi mô_tô , xe_máy ” hoặc đội “ mũ bảo_hiểm cho người đi mô_tô , xe_máy ” không cài quai đúng quy_cách khi điều_khiển xe tham_gia giao_thông trên đường_bộ ; \n",
       " k ) chở người ngồi trên xe không đội “ mũ bảo_hiểm cho người đi mô_tô , xe_máy ” hoặc đội “ mũ bảo_hiểm cho người đi mô_tô , xe_máy ” không cài quai đúng quy_cách , trừ trường_hợp chở người_bệnh đi cấp_cứu , trẻ_em dưới 06 tuổi ,<br>**Metadata:** {'filename': 'Nghị_định_100_2019_NĐ-CP_quy_định_về_xử_phạt_vi_ph.json', 'source': '100/2019/NĐ-CP, Chương II, Điều 6, Khoản 2', 'len_tokenizer': 476, 'parent_text': '2. Phạt tiền từ 200.000 đồng đến 300.000 đồng đối với người điều khiển xe thực hiện một trong các hành vi vi phạm sau đây:\\n\\ta) Dừng xe, đỗ xe trên phần đường xe chạy ở đoạn đường ngoài đô thị nơi có lề đường;\\n\\tb) Không giảm tốc độ và nhường đường khi điều khiển xe chạy từ trong ngõ, đường nhánh ra đường chính;\\n\\tc) Điều khiển xe chạy quá tốc độ quy định từ 05 km/h đến dưới 10 km/h;\\n\\td) Điều khiển xe chạy tốc độ thấp mà không đi bên phải phần đường xe chạy gây cản trở giao thông;\\n\\tđ) Dừng xe, đỗ xe ở lòng đường đô thị gây cản trở giao thông; tụ tập từ 03 xe trở lên ở lòng đường, trong hầm đường bộ; đỗ, để xe ở lòng đường đô thị, hè phố trái quy định của pháp luật;\\n\\te) Không nhường đường cho xe xin vượt khi có đủ điều kiện an toàn; không nhường đường cho xe đi trên đường ưu tiên, đường chính từ bất kỳ hướng nào tới tại nơi đường giao nhau;\\n\\tg) Xe không được quyền ưu tiên lắp đặt, sử dụng thiết bị phát tín hiệu của xe được quyền ưu tiên;\\n\\th) Dừng xe, đỗ xe trên đường xe điện, điểm dừng đón trả khách của xe buýt, nơi đường bộ giao nhau, trên phần đường dành cho người đi bộ qua đường; dừng xe nơi có biển “Cấm dừng xe và đỗ xe”; đỗ xe tại nơi có biển “Cấm đỗ xe” hoặc biển “Cấm dừng xe và đỗ xe”; không tuân thủ các quy định về dừng xe, đỗ xe tại nơi đường bộ giao nhau cùng mức với đường sắt; dừng xe, đỗ xe trong phạm vi an toàn của đường sắt, trừ hành vi vi phạm quy định tại điểm b khoản 2, điểm b khoản 3 Điều 49 Nghị định này;\\n\\ti) Không đội “mũ bảo hiểm cho người đi mô tô, xe máy” hoặc đội “mũ bảo hiểm cho người đi mô tô, xe máy” không cài quai đúng quy cách khi điều khiển xe tham gia giao thông trên đường bộ;\\n\\tk) Chở người ngồi trên xe không đội “mũ bảo hiểm cho người đi mô tô, xe máy” hoặc đội “mũ bảo hiểm cho người đi mô tô, xe máy” không cài quai đúng quy cách, trừ trường hợp chở người bệnh đi cấp cứu, trẻ em dưới 06 tuổi,'}<br>"
      ],
      "text/plain": [
       "<IPython.core.display.Markdown object>"
      ]
     },
     "metadata": {},
     "output_type": "display_data"
    }
   ],
   "source": [
    "for n in vector_index_retriever.retrieve(\"Không đội mũ bảo hiểm phạt bao nhiêu tiền\"):\n",
    "    display_source_node(n, source_length=1000, show_source_metadata=True)"
   ]
  },
  {
   "cell_type": "code",
   "execution_count": null,
   "metadata": {},
   "outputs": [
    {
     "name": "stdout",
     "output_type": "stream",
     "text": [
      "{'error': 'Backend error: MatMulUnexpectedStriding { lhs_l: Layout { shape: [2, 1024], stride: [8192, 1], start_offset: 0 }, rhs_l: Layout { shape: [1024, 1024], stride: [1, 1024], start_offset: 0 }, bmnk: (1, 2, 1024, 1024), msg: \"non-contiguous lhs\" }', 'error_type': 'Backend'}\n"
     ]
    }
   ],
   "source": [
    "import requests\n",
    "\n",
    "url = 'http://localhost:8082/rerank'\n",
    "\n",
    "query_and_nodes = {}\n",
    "query_and_nodes[\"query\"] = \"what is dog\"\n",
    "query_and_nodes[\"raw_scores\"] = False\n",
    "# query_and_nodes[\"return_text\"] = False\n",
    "# query_and_nodes[\"truncate\"] = False\n",
    "query_and_nodes[\"texts\"] = [\n",
    "    \"dog\", \"cat\"\n",
    "]\n",
    "headers = {\n",
    "    'Content-Type': 'application/json'\n",
    "}\n",
    "\n",
    "response = requests.post(url=url, json=query_and_nodes, headers=headers)\n",
    "print(response.json())"
   ]
  },
  {
   "cell_type": "code",
   "execution_count": null,
   "metadata": {},
   "outputs": [
    {
     "data": {
      "text/plain": [
       "{'query': 'What is Deep learning',\n",
       " 'raw_scores': False,\n",
       " 'texts': ['deep', 'learning']}"
      ]
     },
     "execution_count": 11,
     "metadata": {},
     "output_type": "execute_result"
    }
   ],
   "source": [
    "query_and_nodes"
   ]
  },
  {
   "cell_type": "code",
   "execution_count": null,
   "metadata": {},
   "outputs": [
    {
     "name": "stdout",
     "output_type": "stream",
     "text": [
      "1\n"
     ]
    }
   ],
   "source": [
    "i = 1\n",
    "while i < 10:\n",
    "    print(1)\n",
    "    i += 1\n",
    "    if i == 2:\n",
    "        break"
   ]
  },
  {
   "cell_type": "code",
   "execution_count": null,
   "metadata": {},
   "outputs": [],
   "source": []
  }
 ],
 "metadata": {
  "kernelspec": {
   "display_name": "law-rag",
   "language": "python",
   "name": "python3"
  },
  "language_info": {
   "codemirror_mode": {
    "name": "ipython",
    "version": 3
   },
   "file_extension": ".py",
   "mimetype": "text/x-python",
   "name": "python",
   "nbconvert_exporter": "python",
   "pygments_lexer": "ipython3",
   "version": "3.11.5"
  }
 },
 "nbformat": 4,
 "nbformat_minor": 2
}
